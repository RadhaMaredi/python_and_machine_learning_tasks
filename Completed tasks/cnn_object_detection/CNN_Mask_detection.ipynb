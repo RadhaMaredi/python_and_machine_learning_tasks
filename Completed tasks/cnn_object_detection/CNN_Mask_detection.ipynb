{
  "cells": [
    {
      "cell_type": "markdown",
      "metadata": {
        "id": "view-in-github",
        "colab_type": "text"
      },
      "source": [
        "<a href=\"https://colab.research.google.com/github/RadhaMaredi/python_task_programs/blob/master/Completed%20tasks/cnn_object_detection/CNN_Mask_detection.ipynb\" target=\"_parent\"><img src=\"https://colab.research.google.com/assets/colab-badge.svg\" alt=\"Open In Colab\"/></a>"
      ]
    },
    {
      "cell_type": "markdown",
      "metadata": {
        "id": "3DR-eO17geWu"
      },
      "source": [
        "# Convolutional Neural Network\n",
        "\n",
        "---\n",
        "\n",
        "\n",
        "\n",
        "---\n",
        "\n"
      ]
    },
    {
      "cell_type": "markdown",
      "metadata": {
        "id": "EMefrVPCg-60"
      },
      "source": [
        "### Importing the libraries"
      ]
    },
    {
      "cell_type": "code",
      "execution_count": null,
      "metadata": {
        "id": "N0_FTPIntcWl",
        "outputId": "9d03d827-ca1d-40a9-e0f7-69b7ec05a333"
      },
      "outputs": [
        {
          "name": "stdout",
          "output_type": "stream",
          "text": [
            "Requirement already satisfied: tensorflow==2.2.0 in /home/neosoft/anaconda3/lib/python3.8/site-packages (2.2.0)\n",
            "Requirement already satisfied: wrapt>=1.11.1 in /home/neosoft/anaconda3/lib/python3.8/site-packages (from tensorflow==2.2.0) (1.11.2)\n",
            "Requirement already satisfied: gast==0.3.3 in /home/neosoft/anaconda3/lib/python3.8/site-packages (from tensorflow==2.2.0) (0.3.3)\n",
            "Requirement already satisfied: keras-preprocessing>=1.1.0 in /home/neosoft/anaconda3/lib/python3.8/site-packages (from tensorflow==2.2.0) (1.1.2)\n",
            "Requirement already satisfied: numpy<2.0,>=1.16.0 in /home/neosoft/anaconda3/lib/python3.8/site-packages (from tensorflow==2.2.0) (1.22.3)\n",
            "Requirement already satisfied: six>=1.12.0 in /home/neosoft/anaconda3/lib/python3.8/site-packages (from tensorflow==2.2.0) (1.15.0)\n",
            "Requirement already satisfied: tensorboard<2.3.0,>=2.2.0 in /home/neosoft/anaconda3/lib/python3.8/site-packages (from tensorflow==2.2.0) (2.2.2)\n",
            "Requirement already satisfied: absl-py>=0.7.0 in /home/neosoft/anaconda3/lib/python3.8/site-packages (from tensorflow==2.2.0) (1.0.0)\n",
            "Requirement already satisfied: astunparse==1.6.3 in /home/neosoft/anaconda3/lib/python3.8/site-packages (from tensorflow==2.2.0) (1.6.3)\n",
            "Requirement already satisfied: opt-einsum>=2.3.2 in /home/neosoft/anaconda3/lib/python3.8/site-packages (from tensorflow==2.2.0) (3.3.0)\n",
            "Requirement already satisfied: tensorflow-estimator<2.3.0,>=2.2.0 in /home/neosoft/anaconda3/lib/python3.8/site-packages (from tensorflow==2.2.0) (2.2.0)\n",
            "Requirement already satisfied: termcolor>=1.1.0 in /home/neosoft/anaconda3/lib/python3.8/site-packages (from tensorflow==2.2.0) (1.1.0)\n",
            "Requirement already satisfied: wheel>=0.26 in /home/neosoft/anaconda3/lib/python3.8/site-packages (from tensorflow==2.2.0) (0.35.1)\n",
            "Requirement already satisfied: scipy==1.4.1 in /home/neosoft/anaconda3/lib/python3.8/site-packages (from tensorflow==2.2.0) (1.4.1)\n",
            "Requirement already satisfied: protobuf>=3.8.0 in /home/neosoft/anaconda3/lib/python3.8/site-packages (from tensorflow==2.2.0) (3.19.4)\n",
            "Requirement already satisfied: grpcio>=1.8.6 in /home/neosoft/anaconda3/lib/python3.8/site-packages (from tensorflow==2.2.0) (1.44.0)\n",
            "Requirement already satisfied: google-pasta>=0.1.8 in /home/neosoft/anaconda3/lib/python3.8/site-packages (from tensorflow==2.2.0) (0.2.0)\n",
            "Requirement already satisfied: h5py<2.11.0,>=2.10.0 in /home/neosoft/anaconda3/lib/python3.8/site-packages (from tensorflow==2.2.0) (2.10.0)\n",
            "Requirement already satisfied: google-auth-oauthlib<0.5,>=0.4.1 in /home/neosoft/anaconda3/lib/python3.8/site-packages (from tensorboard<2.3.0,>=2.2.0->tensorflow==2.2.0) (0.4.6)\n",
            "Requirement already satisfied: requests<3,>=2.21.0 in /home/neosoft/anaconda3/lib/python3.8/site-packages (from tensorboard<2.3.0,>=2.2.0->tensorflow==2.2.0) (2.24.0)\n",
            "Requirement already satisfied: werkzeug>=0.11.15 in /home/neosoft/.local/lib/python3.8/site-packages (from tensorboard<2.3.0,>=2.2.0->tensorflow==2.2.0) (2.1.0)\n",
            "Requirement already satisfied: tensorboard-plugin-wit>=1.6.0 in /home/neosoft/anaconda3/lib/python3.8/site-packages (from tensorboard<2.3.0,>=2.2.0->tensorflow==2.2.0) (1.8.1)\n",
            "Requirement already satisfied: markdown>=2.6.8 in /home/neosoft/anaconda3/lib/python3.8/site-packages (from tensorboard<2.3.0,>=2.2.0->tensorflow==2.2.0) (3.3.6)\n",
            "Requirement already satisfied: setuptools>=41.0.0 in /home/neosoft/anaconda3/lib/python3.8/site-packages (from tensorboard<2.3.0,>=2.2.0->tensorflow==2.2.0) (50.3.1.post20201107)\n",
            "Requirement already satisfied: google-auth<2,>=1.6.3 in /home/neosoft/anaconda3/lib/python3.8/site-packages (from tensorboard<2.3.0,>=2.2.0->tensorflow==2.2.0) (1.35.0)\n",
            "Requirement already satisfied: pyasn1-modules>=0.2.1 in /home/neosoft/anaconda3/lib/python3.8/site-packages (from google-auth<2,>=1.6.3->tensorboard<2.3.0,>=2.2.0->tensorflow==2.2.0) (0.2.8)\n",
            "Requirement already satisfied: rsa<5,>=3.1.4 in /home/neosoft/anaconda3/lib/python3.8/site-packages (from google-auth<2,>=1.6.3->tensorboard<2.3.0,>=2.2.0->tensorflow==2.2.0) (4.8)\n",
            "Requirement already satisfied: cachetools<5.0,>=2.0.0 in /home/neosoft/anaconda3/lib/python3.8/site-packages (from google-auth<2,>=1.6.3->tensorboard<2.3.0,>=2.2.0->tensorflow==2.2.0) (4.2.4)\n",
            "Requirement already satisfied: requests-oauthlib>=0.7.0 in /home/neosoft/anaconda3/lib/python3.8/site-packages (from google-auth-oauthlib<0.5,>=0.4.1->tensorboard<2.3.0,>=2.2.0->tensorflow==2.2.0) (1.3.1)\n",
            "Requirement already satisfied: importlib-metadata>=4.4 in /home/neosoft/.local/lib/python3.8/site-packages (from markdown>=2.6.8->tensorboard<2.3.0,>=2.2.0->tensorflow==2.2.0) (4.11.3)\n",
            "Requirement already satisfied: idna<3,>=2.5 in /home/neosoft/anaconda3/lib/python3.8/site-packages (from requests<3,>=2.21.0->tensorboard<2.3.0,>=2.2.0->tensorflow==2.2.0) (2.10)\n",
            "Requirement already satisfied: urllib3!=1.25.0,!=1.25.1,<1.26,>=1.21.1 in /home/neosoft/anaconda3/lib/python3.8/site-packages (from requests<3,>=2.21.0->tensorboard<2.3.0,>=2.2.0->tensorflow==2.2.0) (1.25.11)\n",
            "Requirement already satisfied: certifi>=2017.4.17 in /home/neosoft/anaconda3/lib/python3.8/site-packages (from requests<3,>=2.21.0->tensorboard<2.3.0,>=2.2.0->tensorflow==2.2.0) (2020.6.20)\n",
            "Requirement already satisfied: chardet<4,>=3.0.2 in /home/neosoft/anaconda3/lib/python3.8/site-packages (from requests<3,>=2.21.0->tensorboard<2.3.0,>=2.2.0->tensorflow==2.2.0) (3.0.4)\n",
            "Requirement already satisfied: zipp>=0.5 in /home/neosoft/anaconda3/lib/python3.8/site-packages (from importlib-metadata>=4.4->markdown>=2.6.8->tensorboard<2.3.0,>=2.2.0->tensorflow==2.2.0) (3.4.0)\n",
            "Requirement already satisfied: pyasn1<0.5.0,>=0.4.6 in /home/neosoft/anaconda3/lib/python3.8/site-packages (from pyasn1-modules>=0.2.1->google-auth<2,>=1.6.3->tensorboard<2.3.0,>=2.2.0->tensorflow==2.2.0) (0.4.8)\n",
            "Requirement already satisfied: oauthlib>=3.0.0 in /home/neosoft/anaconda3/lib/python3.8/site-packages (from requests-oauthlib>=0.7.0->google-auth-oauthlib<0.5,>=0.4.1->tensorboard<2.3.0,>=2.2.0->tensorflow==2.2.0) (3.2.0)\n"
          ]
        }
      ],
      "source": [
        "!pip install tensorflow==2.2.0"
      ]
    },
    {
      "cell_type": "code",
      "execution_count": null,
      "metadata": {
        "id": "sCV30xyVhFbE"
      },
      "outputs": [],
      "source": [
        "import tensorflow as tf"
      ]
    },
    {
      "cell_type": "code",
      "execution_count": null,
      "metadata": {
        "id": "Dwa3xRzXtcWn"
      },
      "outputs": [],
      "source": [
        "from tensorflow import keras "
      ]
    },
    {
      "cell_type": "code",
      "execution_count": null,
      "metadata": {
        "scrolled": true,
        "id": "d53lBKXLtcWn"
      },
      "outputs": [],
      "source": [
        "from tensorflow.keras.preprocessing.image import ImageDataGenerator"
      ]
    },
    {
      "cell_type": "code",
      "execution_count": null,
      "metadata": {
        "id": "FIleuCAjoFD8",
        "scrolled": false,
        "outputId": "b844cd17-ceb0-45de-e173-fdfed24c5da3"
      },
      "outputs": [
        {
          "data": {
            "text/plain": [
              "'2.2.0'"
            ]
          },
          "execution_count": 6,
          "metadata": {},
          "output_type": "execute_result"
        }
      ],
      "source": [
        "tf.__version__"
      ]
    },
    {
      "cell_type": "markdown",
      "metadata": {
        "id": "oxQxCBWyoGPE"
      },
      "source": [
        "## Part 1 - Data Preprocessing"
      ]
    },
    {
      "cell_type": "markdown",
      "metadata": {
        "id": "MvE-heJNo3GG"
      },
      "source": [
        "### Preprocessing the Training set"
      ]
    },
    {
      "cell_type": "code",
      "execution_count": null,
      "metadata": {
        "id": "0koUcJMJpEBD",
        "outputId": "d3228330-9ea2-4944-ed23-826a27ffe187"
      },
      "outputs": [
        {
          "name": "stdout",
          "output_type": "stream",
          "text": [
            "Found 1088 images belonging to 2 classes.\n"
          ]
        }
      ],
      "source": [
        "train_datagen = ImageDataGenerator(rescale = 1./255,\n",
        "                                   shear_range = 0.2,\n",
        "                                   zoom_range = 0.2,\n",
        "                                   horizontal_flip = True)\n",
        "training_set = train_datagen.flow_from_directory('/home/neosoft/Desktop/jupyter/mask_dataset (1)/mask_dataset/train',\n",
        "                                                 target_size = (64, 64),\n",
        "                                                 batch_size = 32,\n",
        "                                                 class_mode = 'binary')"
      ]
    },
    {
      "cell_type": "markdown",
      "metadata": {
        "id": "mrCMmGw9pHys"
      },
      "source": [
        "### Preprocessing the Test set"
      ]
    },
    {
      "cell_type": "code",
      "execution_count": null,
      "metadata": {
        "id": "SH4WzfOhpKc3",
        "outputId": "090bd2a7-af6f-426c-a860-f06763c18b5a"
      },
      "outputs": [
        {
          "name": "stdout",
          "output_type": "stream",
          "text": [
            "Found 98 images belonging to 2 classes.\n"
          ]
        }
      ],
      "source": [
        "test_datagen = ImageDataGenerator(rescale = 1./255)\n",
        "test_set = test_datagen.flow_from_directory('/home/neosoft/Desktop/jupyter/mask_dataset (1)/mask_dataset/test',\n",
        "                                            target_size = (64, 64),\n",
        "                                            batch_size = 32,\n",
        "                                            class_mode = 'binary')"
      ]
    },
    {
      "cell_type": "markdown",
      "metadata": {
        "id": "af8O4l90gk7B"
      },
      "source": [
        "## Part 2 - Building the CNN"
      ]
    },
    {
      "cell_type": "markdown",
      "metadata": {
        "id": "ces1gXY2lmoX"
      },
      "source": [
        "### Initialising the CNN"
      ]
    },
    {
      "cell_type": "code",
      "execution_count": null,
      "metadata": {
        "id": "SAUt4UMPlhLS"
      },
      "outputs": [],
      "source": [
        "cnn = tf.keras.models.Sequential()"
      ]
    },
    {
      "cell_type": "markdown",
      "metadata": {
        "id": "u5YJj_XMl5LF"
      },
      "source": [
        "### Step 1 - Convolution"
      ]
    },
    {
      "cell_type": "code",
      "execution_count": null,
      "metadata": {
        "id": "XPzPrMckl-hV"
      },
      "outputs": [],
      "source": [
        "cnn.add(tf.keras.layers.Conv2D(filters=32, kernel_size=3, activation='relu', input_shape=[64, 64, 3]))"
      ]
    },
    {
      "cell_type": "markdown",
      "metadata": {
        "id": "tf87FpvxmNOJ"
      },
      "source": [
        "### Step 2 - Pooling"
      ]
    },
    {
      "cell_type": "code",
      "execution_count": null,
      "metadata": {
        "id": "ncpqPl69mOac"
      },
      "outputs": [],
      "source": [
        "cnn.add(tf.ker(pool_size=2, strides=2))as.layers.MaxPool2D"
      ]
    },
    {
      "cell_type": "markdown",
      "metadata": {
        "id": "xaTOgD8rm4mU"
      },
      "source": [
        "### Adding a second convolutional layer"
      ]
    },
    {
      "cell_type": "code",
      "execution_count": null,
      "metadata": {
        "id": "i_-FZjn_m8gk"
      },
      "outputs": [],
      "source": [
        "cnn.add(tf.keras.layers.Conv2D(filters=32, kernel_size=3, activation='relu'))\n",
        "cnn.add(tf.keras.layers.MaxPool2D(pool_size=2, strides=2))"
      ]
    },
    {
      "cell_type": "markdown",
      "metadata": {
        "id": "tmiEuvTunKfk"
      },
      "source": [
        "### Step 3 - Flattening"
      ]
    },
    {
      "cell_type": "code",
      "execution_count": null,
      "metadata": {
        "id": "6AZeOGCvnNZn"
      },
      "outputs": [],
      "source": [
        "cnn.add(tf.keras.layers.Flatten())"
      ]
    },
    {
      "cell_type": "markdown",
      "metadata": {
        "id": "dAoSECOm203v"
      },
      "source": [
        "### Step 4 - Full Connection"
      ]
    },
    {
      "cell_type": "code",
      "execution_count": null,
      "metadata": {
        "id": "8GtmUlLd26Nq"
      },
      "outputs": [],
      "source": [
        "cnn.add(tf.keras.layers.Dense(units=128, activation='relu'))"
      ]
    },
    {
      "cell_type": "markdown",
      "metadata": {
        "id": "yTldFvbX28Na"
      },
      "source": [
        "### Step 5 - Output Layer"
      ]
    },
    {
      "cell_type": "code",
      "execution_count": null,
      "metadata": {
        "id": "1p_Zj1Mc3Ko_"
      },
      "outputs": [],
      "source": [
        "cnn.add(tf.keras.layers.Dense(units=1, activation='sigmoid'))"
      ]
    },
    {
      "cell_type": "markdown",
      "metadata": {
        "id": "D6XkI90snSDl"
      },
      "source": [
        "## Part 3 - Training the CNN"
      ]
    },
    {
      "cell_type": "markdown",
      "metadata": {
        "id": "vfrFQACEnc6i"
      },
      "source": [
        "### Compiling the CNN"
      ]
    },
    {
      "cell_type": "code",
      "execution_count": null,
      "metadata": {
        "id": "NALksrNQpUlJ"
      },
      "outputs": [],
      "source": [
        "cnn.compile(optimizer = 'adam', loss = 'binary_crossentropy', metrics = ['accuracy'])"
      ]
    },
    {
      "cell_type": "markdown",
      "metadata": {
        "id": "ehS-v3MIpX2h"
      },
      "source": [
        "### Training the CNN on the Training set and evaluating it on the Test set"
      ]
    },
    {
      "cell_type": "code",
      "execution_count": null,
      "metadata": {
        "id": "XUj1W4PJptta",
        "outputId": "690b9d50-c499-4bde-e9c7-3e6f8a9ccd1e"
      },
      "outputs": [
        {
          "name": "stdout",
          "output_type": "stream",
          "text": [
            "Epoch 1/25\n",
            "34/34 [==============================] - 12s 364ms/step - loss: 0.5662 - accuracy: 0.7040 - val_loss: 0.3452 - val_accuracy: 0.8163\n",
            "Epoch 2/25\n",
            "34/34 [==============================] - 11s 329ms/step - loss: 0.3461 - accuracy: 0.8336 - val_loss: 0.2690 - val_accuracy: 0.8469\n",
            "Epoch 3/25\n",
            "34/34 [==============================] - 13s 377ms/step - loss: 0.2822 - accuracy: 0.8814 - val_loss: 0.2202 - val_accuracy: 0.8878\n",
            "Epoch 4/25\n",
            "34/34 [==============================] - 13s 394ms/step - loss: 0.2469 - accuracy: 0.8906 - val_loss: 0.1439 - val_accuracy: 0.9592\n",
            "Epoch 5/25\n",
            "34/34 [==============================] - 12s 348ms/step - loss: 0.2372 - accuracy: 0.8989 - val_loss: 0.3005 - val_accuracy: 0.8367\n",
            "Epoch 6/25\n",
            "34/34 [==============================] - 13s 381ms/step - loss: 0.2119 - accuracy: 0.9136 - val_loss: 0.2450 - val_accuracy: 0.8878\n",
            "Epoch 7/25\n",
            "34/34 [==============================] - 11s 322ms/step - loss: 0.1865 - accuracy: 0.9292 - val_loss: 0.1807 - val_accuracy: 0.9184\n",
            "Epoch 8/25\n",
            "34/34 [==============================] - 11s 337ms/step - loss: 0.1952 - accuracy: 0.9191 - val_loss: 0.0953 - val_accuracy: 0.9592\n",
            "Epoch 9/25\n",
            "34/34 [==============================] - 12s 351ms/step - loss: 0.1694 - accuracy: 0.9292 - val_loss: 0.1010 - val_accuracy: 0.9592\n",
            "Epoch 10/25\n",
            "34/34 [==============================] - 13s 369ms/step - loss: 0.1660 - accuracy: 0.9412 - val_loss: 0.3171 - val_accuracy: 0.8673\n",
            "Epoch 11/25\n",
            "34/34 [==============================] - 11s 336ms/step - loss: 0.1683 - accuracy: 0.9347 - val_loss: 0.0765 - val_accuracy: 0.9694\n",
            "Epoch 12/25\n",
            "34/34 [==============================] - 13s 373ms/step - loss: 0.1523 - accuracy: 0.9439 - val_loss: 0.1069 - val_accuracy: 0.9694\n",
            "Epoch 13/25\n",
            "34/34 [==============================] - 12s 349ms/step - loss: 0.1288 - accuracy: 0.9513 - val_loss: 0.1355 - val_accuracy: 0.9592\n",
            "Epoch 14/25\n",
            "34/34 [==============================] - 12s 355ms/step - loss: 0.1233 - accuracy: 0.9504 - val_loss: 0.2293 - val_accuracy: 0.9286\n",
            "Epoch 15/25\n",
            "34/34 [==============================] - 11s 326ms/step - loss: 0.1176 - accuracy: 0.9513 - val_loss: 0.1000 - val_accuracy: 0.9592\n",
            "Epoch 16/25\n",
            "34/34 [==============================] - 12s 357ms/step - loss: 0.1300 - accuracy: 0.9513 - val_loss: 0.1399 - val_accuracy: 0.9388\n",
            "Epoch 17/25\n",
            "34/34 [==============================] - 11s 333ms/step - loss: 0.1092 - accuracy: 0.9522 - val_loss: 0.1517 - val_accuracy: 0.9592\n",
            "Epoch 18/25\n",
            "34/34 [==============================] - 11s 334ms/step - loss: 0.1129 - accuracy: 0.9586 - val_loss: 0.0984 - val_accuracy: 0.9592\n",
            "Epoch 19/25\n",
            "34/34 [==============================] - 13s 375ms/step - loss: 0.0973 - accuracy: 0.9586 - val_loss: 0.1287 - val_accuracy: 0.9592\n",
            "Epoch 20/25\n",
            "34/34 [==============================] - 12s 356ms/step - loss: 0.0853 - accuracy: 0.9715 - val_loss: 0.1204 - val_accuracy: 0.9592\n",
            "Epoch 21/25\n",
            "34/34 [==============================] - 12s 353ms/step - loss: 0.0809 - accuracy: 0.9669 - val_loss: 0.2902 - val_accuracy: 0.8980\n",
            "Epoch 22/25\n",
            "34/34 [==============================] - 13s 383ms/step - loss: 0.0739 - accuracy: 0.9761 - val_loss: 0.1871 - val_accuracy: 0.9490\n",
            "Epoch 23/25\n",
            "34/34 [==============================] - 11s 326ms/step - loss: 0.0631 - accuracy: 0.9761 - val_loss: 0.2004 - val_accuracy: 0.9490\n",
            "Epoch 24/25\n",
            "34/34 [==============================] - 11s 327ms/step - loss: 0.0498 - accuracy: 0.9825 - val_loss: 0.2332 - val_accuracy: 0.9082\n",
            "Epoch 25/25\n",
            "34/34 [==============================] - 16s 481ms/step - loss: 0.0581 - accuracy: 0.9770 - val_loss: 0.1300 - val_accuracy: 0.9694\n"
          ]
        },
        {
          "data": {
            "text/plain": [
              "<tensorflow.python.keras.callbacks.History at 0x7f16d5c09640>"
            ]
          },
          "execution_count": 17,
          "metadata": {},
          "output_type": "execute_result"
        }
      ],
      "source": [
        "cnn.fit(x = training_set, validation_data = test_set, epochs = 25)"
      ]
    },
    {
      "cell_type": "markdown",
      "metadata": {
        "id": "U3PZasO0006Z"
      },
      "source": [
        "## Part 4 - Making a single prediction"
      ]
    },
    {
      "cell_type": "code",
      "execution_count": null,
      "metadata": {
        "id": "UD5Pnz7jtcWy"
      },
      "outputs": [],
      "source": [
        "import cv2\n",
        "from matplotlib import pyplot as plt"
      ]
    },
    {
      "cell_type": "code",
      "execution_count": null,
      "metadata": {
        "id": "vDGaeCTgtcWy",
        "outputId": "bc0b74eb-705e-42fe-bb62-b8d91de578fb"
      },
      "outputs": [
        {
          "data": {
            "text/plain": [
              "<matplotlib.image.AxesImage at 0x7feb766d16a0>"
            ]
          },
          "execution_count": 3,
          "metadata": {},
          "output_type": "execute_result"
        },
        {
          "data": {
            "image/png": "[encoded data removed]",
            "text/plain": [
              "<Figure size 432x288 with 1 Axes>"
            ]
          },
          "metadata": {
            "needs_background": "light"
          },
          "output_type": "display_data"
        }
      ],
      "source": [
        "predict_img = cv2.imread(\"/home/neosoft/Desktop/jupyter/mask_dataset (1)/mask_dataset/image_2022_04_25T12_57_35_865Z.png\")\n",
        "image = cv2.cvtColor(predict_img, cv2.COLOR_BGR2RGB)\n",
        "plt.imshow(image)"
      ]
    },
    {
      "cell_type": "code",
      "execution_count": null,
      "metadata": {
        "id": "gsSiWEJY1BPB"
      },
      "outputs": [],
      "source": [
        "import numpy as np\n",
        "from tensorflow.keras.preprocessing import image\n",
        "#from keras.preprocessing import image\n",
        "test_image = image.load_img(\"/home/neosoft/Desktop/jupyter/mask_dataset (1)/mask_dataset/image_2022_04_25T12_57_35_865Z.png\", target_size = (64, 64))\n",
        "test_image = image.img_to_array(test_image)\n",
        "test_image = np.expand_dims(test_image, axis = 0)\n",
        "result = cnn.predict(test_image)\n",
        "training_set.class_indices\n",
        "if result[0][0] == 1:\n",
        "  prediction = 'perfectly wore mask'\n",
        "else:\n",
        "  prediction = 'incorrectly wore mask'"
      ]
    },
    {
      "cell_type": "code",
      "execution_count": null,
      "metadata": {
        "id": "ED9KB3I54c1i",
        "outputId": "fc75a055-d2c2-451a-8635-f36ce500f470"
      },
      "outputs": [
        {
          "name": "stdout",
          "output_type": "stream",
          "text": [
            "perfectly wore mask\n"
          ]
        }
      ],
      "source": [
        "print(prediction)"
      ]
    },
    {
      "cell_type": "code",
      "execution_count": null,
      "metadata": {
        "id": "NtUAolnRtcW0"
      },
      "outputs": [],
      "source": [
        ""
      ]
    }
  ],
  "metadata": {
    "colab": {
      "collapsed_sections": [],
      "name": "CNN_Mask_detection.ipynb",
      "provenance": [],
      "toc_visible": true,
      "include_colab_link": true
    },
    "kernelspec": {
      "display_name": "Python 3",
      "language": "python",
      "name": "python3"
    },
    "language_info": {
      "codemirror_mode": {
        "name": "ipython",
        "version": 3
      },
      "file_extension": ".py",
      "mimetype": "text/x-python",
      "name": "python",
      "nbconvert_exporter": "python",
      "pygments_lexer": "ipython3",
      "version": "3.8.5"
    }
  },
  "nbformat": 4,
  "nbformat_minor": 0
}